{
 "cells": [
  {
   "cell_type": "code",
   "execution_count": 8,
   "id": "b4d460ce-fa2c-451a-b38b-2c93eb401165",
   "metadata": {},
   "outputs": [
    {
     "name": "stdout",
     "output_type": "stream",
     "text": [
      "Requirement already satisfied: pandas in c:\\users\\abdmu\\anaconda3\\lib\\site-packages (2.2.2)\n",
      "Requirement already satisfied: numpy>=1.26.0 in c:\\users\\abdmu\\anaconda3\\lib\\site-packages (from pandas) (1.26.4)\n",
      "Requirement already satisfied: python-dateutil>=2.8.2 in c:\\users\\abdmu\\anaconda3\\lib\\site-packages (from pandas) (2.9.0.post0)\n",
      "Requirement already satisfied: pytz>=2020.1 in c:\\users\\abdmu\\anaconda3\\lib\\site-packages (from pandas) (2024.1)\n",
      "Requirement already satisfied: tzdata>=2022.7 in c:\\users\\abdmu\\anaconda3\\lib\\site-packages (from pandas) (2023.3)\n",
      "Requirement already satisfied: six>=1.5 in c:\\users\\abdmu\\anaconda3\\lib\\site-packages (from python-dateutil>=2.8.2->pandas) (1.16.0)\n"
     ]
    }
   ],
   "source": [
    "!pip install pandas"
   ]
  },
  {
   "cell_type": "code",
   "execution_count": 12,
   "id": "9cb03567-8a3b-4c01-b54d-068c05326b77",
   "metadata": {},
   "outputs": [
    {
     "name": "stdout",
     "output_type": "stream",
     "text": [
      "2.2.2\n"
     ]
    }
   ],
   "source": [
    "import pandas as pd\n",
    "print(pd.__version__)\n"
   ]
  },
  {
   "cell_type": "code",
   "execution_count": 20,
   "id": "06a07b97-b5c5-4893-b411-32c6e038ba6f",
   "metadata": {},
   "outputs": [
    {
     "data": {
      "text/plain": [
       "'Musharraf'"
      ]
     },
     "execution_count": 20,
     "metadata": {},
     "output_type": "execute_result"
    }
   ],
   "source": [
    "def answer():\n",
    "    n=input(\"Enter the number\")\n",
    "    n=int(n)\n",
    "    for i in range(n):\n",
    "        print(i,end=\" \")"
   ]
  },
  {
   "cell_type": "markdown",
   "id": "857584cb-fd87-4419-803b-39be2545eed3",
   "metadata": {},
   "source": [
    "OOP in python"
   ]
  },
  {
   "cell_type": "code",
   "execution_count": 30,
   "id": "6bd6e038-8ca7-4e43-b739-69f1cf7f2d9e",
   "metadata": {},
   "outputs": [
    {
     "name": "stdout",
     "output_type": "stream",
     "text": [
      "Hello I am:  Musharraf\n",
      "My Age is:  22\n",
      "My mark is:  50\n"
     ]
    }
   ],
   "source": [
    "class student:\n",
    "    def __init__(self):\n",
    "        self.name='Musharraf'\n",
    "        self.age=22\n",
    "        self.mark=50\n",
    "    def call(self):\n",
    "        print(\"Hello I am: \",self.name)\n",
    "        print(\"My Age is: \",self.age)\n",
    "        print(\"My mark is: \",self.mark)\n",
    "s1=student()\n",
    "s1.call()\n",
    "\n"
   ]
  },
  {
   "cell_type": "code",
   "execution_count": 37,
   "id": "25b84588-5523-4e9e-810c-04fdfd60c732",
   "metadata": {},
   "outputs": [
    {
     "name": "stdout",
     "output_type": "stream",
     "text": [
      "Hello I am:  Amal\n",
      "My Age is:  23\n",
      "My mark is:  68\n"
     ]
    }
   ],
   "source": [
    "class student:\n",
    "    def __init__(my,name,age,mark):\n",
    "        my.name=name\n",
    "        my.age=age\n",
    "        my.mark=mark\n",
    "    def call(my):\n",
    "        print(\"Hello I am: \",my.name)\n",
    "        print(\"My Age is: \",my.age)\n",
    "        print(\"My mark is: \",my.mark)\n",
    "\n",
    "s2=student('Amal',23,68)\n",
    "s2.call()"
   ]
  },
  {
   "cell_type": "markdown",
   "id": "92a6f407-bf2e-4dd0-809c-968ea282cd73",
   "metadata": {},
   "source": [
    "Constructor method\n"
   ]
  },
  {
   "cell_type": "code",
   "execution_count": 35,
   "id": "937d584b-9034-465f-9a5e-ca250ff86b87",
   "metadata": {},
   "outputs": [
    {
     "name": "stdout",
     "output_type": "stream",
     "text": [
      "Constructor execution...\n",
      "Constructor execution...\n",
      "Constructor execution...\n",
      "Method execution...\n"
     ]
    }
   ],
   "source": [
    "class test:\n",
    "    def __init__(self):\n",
    "        print(\"Constructor execution...\")\n",
    "    def m1(self):\n",
    "        print(\"Method execution...\")\n",
    "t1=test()\n",
    "t2=test()\n",
    "t3=test()\n",
    "t1.m1()\n",
    "'''"
   ]
  },
  {
   "cell_type": "markdown",
   "id": "9378f484-729b-4971-865d-124cf6520e83",
   "metadata": {},
   "source": [
    "Read file"
   ]
  },
  {
   "cell_type": "code",
   "execution_count": null,
   "id": "8f6fdcf1-2931-47be-ba8a-e352b404bcb7",
   "metadata": {},
   "outputs": [],
   "source": []
  },
  {
   "cell_type": "code",
   "execution_count": 42,
   "id": "fa279bc7-4f7a-4c5f-9dd5-f2264dc6bd97",
   "metadata": {},
   "outputs": [
    {
     "name": "stdout",
     "output_type": "stream",
     "text": [
      "Student Name: Daminda\n",
      "IndexNo:10001 \n",
      "Marks:80\n",
      "Student Name: Maria\n",
      "IndexNo:10002 \n",
      "Marks:100\n"
     ]
    }
   ],
   "source": [
    "class student:\n",
    "    '''''This is student class with requried data'''\n",
    "    def __init__(self,x,y,z):\n",
    "        self.name = x\n",
    "        self.index=y\n",
    "        self.marks=z\n",
    "    def display(self):\n",
    "        print(\"Student Name: {}\\nIndexNo:{} \\nMarks:{}\".format(self.name,self.index,self.marks))\n",
    "\n",
    "s1=student(\"Daminda\",10001,80)\n",
    "s1.display()\n",
    "s2=student(\"Maria\",10002,100)\n",
    "s2.display()\n",
    "#Here we add multiple object to the same class"
   ]
  },
  {
   "cell_type": "code",
   "execution_count": 48,
   "id": "aa3d8a78-4085-4718-9374-5c5a165f5367",
   "metadata": {},
   "outputs": [
    {
     "name": "stdin",
     "output_type": "stream",
     "text": [
      "Enter your name:  musharraf\n"
     ]
    },
    {
     "name": "stdout",
     "output_type": "stream",
     "text": [
      "My name is musharraf\n"
     ]
    }
   ],
   "source": [
    "a=input(\"Enter your name: \")\n",
    "print(\"My name is {}\".format(a))"
   ]
  },
  {
   "cell_type": "markdown",
   "id": "46fc255b-8cbc-4916-966b-57b56a9dfc25",
   "metadata": {},
   "source": [
    "Instance Variable"
   ]
  },
  {
   "cell_type": "code",
   "execution_count": 90,
   "id": "81150e90-d979-46e0-a3d7-47e73b2a5ed6",
   "metadata": {},
   "outputs": [
    {
     "name": "stdout",
     "output_type": "stream",
     "text": [
      "{'f': 'Europe', 'c': 'China', 'd': 'Iran', 'e': ('Myanmar', 'USA')}\n"
     ]
    }
   ],
   "source": [
    "class test:\n",
    "    def __init__(self):\n",
    "        self.a=\"Russia\"\n",
    "        self.b=\"ukraine\"\n",
    "        self.f=\"Europe\"\n",
    "        del self.a\n",
    "    def m1(self):\n",
    "        self.c=\"China\"\n",
    "t=test()\n",
    "t.m1() #For method you need to call it unless that won't going to execute\n",
    "t.d=\"Iran\"\n",
    "t.e=\"Myanmar\",\"USA\"\n",
    "del t.b\n",
    "print(t.__dict__)\n",
    "\n",
    "    \n",
    "    "
   ]
  },
  {
   "cell_type": "markdown",
   "id": "b3c28966-5aa6-4f2a-8c84-71f0adb976fb",
   "metadata": {},
   "source": [
    "Array"
   ]
  },
  {
   "cell_type": "code",
   "execution_count": 99,
   "id": "e4e82d2e-67eb-4110-b30d-c5c4923867c2",
   "metadata": {},
   "outputs": [
    {
     "name": "stdout",
     "output_type": "stream",
     "text": [
      "array('i', [1, 2, 3, 4, 5])\n",
      "3\n",
      "array('i', [5, 4, 3, 2, 1])\n"
     ]
    }
   ],
   "source": [
    "from array import *\n",
    "arr = array('i',[1,2,3,4,5])\n",
    "print(arr)\n",
    "print(arr[2])\n",
    "arr.reverse()#to reverse\n",
    "print(arr)\n"
   ]
  },
  {
   "cell_type": "code",
   "execution_count": 103,
   "id": "7d4fc228-d767-4835-b534-9156b784a582",
   "metadata": {},
   "outputs": [
    {
     "name": "stdin",
     "output_type": "stream",
     "text": [
      "Enter a number:  4\n"
     ]
    },
    {
     "name": "stdout",
     "output_type": "stream",
     "text": [
      "Enter the 4 elements\n"
     ]
    }
   ],
   "source": [
    "arr = array('i',[])\n",
    "x = int(input(\"Enter a number: \"))\n",
    "print('Enter the %d elements'%x)"
   ]
  },
  {
   "cell_type": "markdown",
   "id": "69ad4d4a-4fe0-48ab-84c6-6ad9f9d29c46",
   "metadata": {},
   "source": [
    "Functions"
   ]
  },
  {
   "cell_type": "code",
   "execution_count": 118,
   "id": "7d00158d-d6d9-4419-a0af-0f3059408f13",
   "metadata": {},
   "outputs": [
    {
     "name": "stdout",
     "output_type": "stream",
     "text": [
      "a:10      b:20\n",
      "The sum is  30\n",
      "a:3      b:2\n",
      "The sum is  5\n",
      "11\n",
      "Sum 8 + 9 =  17\n"
     ]
    }
   ],
   "source": [
    "def welcome():\n",
    "    print(\"Hello\")\n",
    "\n",
    "def add(b,a):\n",
    "    total=a+b\n",
    "    print(\"a:%d      b:%d\"%(a,b))\n",
    "    print(\"The sum is \",total)\n",
    "    \n",
    "add(a= 10,b=20)\n",
    "x=2\n",
    "y=3\n",
    "add(x,y)\n",
    "#Using return statement\n",
    "def add2(x,y):\n",
    "    total_1=x+y\n",
    "    return total_1\n",
    "\n",
    "print(add2(5,6))\n",
    "#OR\n",
    "res=add2(8,9)\n",
    "print(\"Sum 8 + 9 = \",res)"
   ]
  },
  {
   "cell_type": "markdown",
   "id": "52e29847-12c4-4810-a956-1be67d0dce6d",
   "metadata": {},
   "source": [
    "OOP"
   ]
  },
  {
   "cell_type": "code",
   "execution_count": null,
   "id": "586037c4-fcad-465a-8500-14e1f1042a18",
   "metadata": {},
   "outputs": [],
   "source": [
    "class person:\n",
    "    def __init__(self)\n",
    "    self.name=name"
   ]
  },
  {
   "cell_type": "code",
   "execution_count": 121,
   "id": "966892d0-88c0-4ed8-8bf3-b6ed2a4ef471",
   "metadata": {},
   "outputs": [
    {
     "name": "stdout",
     "output_type": "stream",
     "text": [
      "155 mph\n",
      "155 mph\n"
     ]
    }
   ],
   "source": [
    "#with male person\n",
    "class car:\n",
    "    def getSpeed(self):\n",
    "        print(\"155 mph\")\n",
    "\n",
    "BMW = car()\n",
    "ford=car()\n",
    "car.getSpeed(BMW)\n",
    "car.getSpeed(ford)"
   ]
  },
  {
   "cell_type": "markdown",
   "id": "d32370d2-951d-409a-82b1-cbc2ed08fc35",
   "metadata": {},
   "source": [
    "Family tree"
   ]
  },
  {
   "cell_type": "code",
   "execution_count": 15,
   "id": "8cbdd5d8-b5cd-4108-804a-20883f2f659c",
   "metadata": {},
   "outputs": [
    {
     "name": "stdout",
     "output_type": "stream",
     "text": [
      "Initializing child\n",
      "Initializing child\n",
      "All my family member's home town is : Batticalo\n",
      "I am Siri, a Male grandparent from Colombo.\n",
      "Siri says: Back in my day, I worked as a Farmer!\n",
      "I am Nimali, your parent with a BSc background.\n",
      "Focus on your Gardening to relax!\n",
      "Hi, I’m Kamal, studying at Horizon College and I love Chess!\n",
      "Playing Chess now!\n",
      "Hi, I’m Amali, studying at Horizon College and I love Minecraft!\n",
      "Playing Minecraft for 2 hour(s)!\n",
      "My talent is Singing.\n"
     ]
    }
   ],
   "source": [
    "Home_town_of_my_family = 'Batticalo' # Static variable (class variable)\n",
    "\n",
    "class Grandparent:\n",
    "    # Encapsulation with private variable\n",
    "    def __init__(self, name, age, occupation, birthplace, gender):\n",
    "        self.__name = name  # Private instance variable\n",
    "        self.age = age\n",
    "        self.occupation = occupation\n",
    "        self.birthplace = birthplace\n",
    "        self.gender = gender\n",
    "\n",
    "    def introduce(self):  # Method overriding will happen in child classes\n",
    "        return f\"I am {self.__name}, a {self.gender} grandparent from {self.birthplace}.\"\n",
    "\n",
    "    def tell_story(self):\n",
    "        return f\"{self.__name} says: Back in my day, I worked as a {self.occupation}!\"\n",
    "\n",
    "    # Getter for encapsulation\n",
    "    def get_name(self):\n",
    "        return self.__name\n",
    "\n",
    "# Multi-level inheritance: Parent inherits from Grandparent\n",
    "class Parent(Grandparent):\n",
    "    def __init__(self, name, age, occupation, education, hobby):\n",
    "        super().__init__(name, age, occupation, \"Sri Lanka\", \"Male/Female\")\n",
    "        self.education = education\n",
    "        self.hobby = hobby\n",
    "\n",
    "    # Method overriding\n",
    "    def introduce(self):\n",
    "        return f\"I am {self.get_name()}, your parent with a {self.education} background.\"\n",
    "\n",
    "    def give_advice(self):\n",
    "        return f\"Focus on your {self.hobby} to relax!\"\n",
    "\n",
    "# Hierarchical inheritance: Child inherits from Parent\n",
    "class Child(Parent):\n",
    "    # Local variable used in method\n",
    "    def __init__(self, name, age, school, hobby, favorite_game):\n",
    "        local_status = \"Initializing child\"  # Local variable\n",
    "        print(local_status)\n",
    "        super().__init__(name, age, \"Student\", \"High School\", hobby)\n",
    "        self.school = school\n",
    "        self.favorite_game = favorite_game\n",
    "\n",
    "    # Method overriding (polymorphism)\n",
    "    def introduce(self):\n",
    "        return f\"Hi, I’m {self.get_name()}, studying at {self.school} and I love {self.favorite_game}!\"\n",
    "\n",
    "    def play_game(self):\n",
    "        return f\"Playing {self.favorite_game} now!\"\n",
    "\n",
    "# Multiple inheritance: Sibling inherits from Child and another class\n",
    "class Talent:\n",
    "    def __init__(self, skill):\n",
    "        self.skill = skill\n",
    "\n",
    "    def show_talent(self):\n",
    "        return f\"My talent is {self.skill}.\"\n",
    "\n",
    "class Sibling(Child, Talent):\n",
    "    def __init__(self, name, age, school, hobby, favorite_game, skill):\n",
    "        Child.__init__(self, name, age, school, hobby, favorite_game)\n",
    "        Talent.__init__(self, skill)\n",
    "\n",
    "    # Method overloading simulation (Python doesn’t support true overloading, so we use default arguments)\n",
    "    def play_game(self, hours=1):\n",
    "        return f\"Playing {self.favorite_game} for {hours} hour(s)!\"\n",
    "\n",
    "# Creating family tree instances\n",
    "grandpa = Grandparent(\"Siri\", 80, \"Farmer\", \"Colombo\", \"Male\")\n",
    "mother = Parent(\"Nimali\", 45, \"Teacher\", \"BSc\", \"Gardening\")\n",
    "me = Child(\"Kamal\", 20, \"Horizon College\", \"Coding\", \"Chess\")\n",
    "sibling = Sibling(\"Amali\", 18, \"Horizon College\", \"Reading\", \"Minecraft\", \"Singing\")\n",
    "\n",
    "# Displaying family tree\n",
    "print(f\"All my family member's home town is : {Home_town_of_my_family}\")\n",
    "print(grandpa.introduce())\n",
    "print(grandpa.tell_story())\n",
    "print(mother.introduce())\n",
    "print(mother.give_advice())\n",
    "print(me.introduce())\n",
    "print(me.play_game())\n",
    "print(sibling.introduce())\n",
    "print(sibling.play_game(2))  # Polymorphism with method overloading\n",
    "print(sibling.show_talent())  # Multiple inheritance\n"
   ]
  },
  {
   "cell_type": "code",
   "execution_count": 17,
   "id": "c20b255d-bb62-45a3-abdb-91e576e7609c",
   "metadata": {},
   "outputs": [
    {
     "ename": "NameError",
     "evalue": "name '_name_' is not defined",
     "output_type": "error",
     "traceback": [
      "\u001b[1;31m---------------------------------------------------------------------------\u001b[0m",
      "\u001b[1;31mNameError\u001b[0m                                 Traceback (most recent call last)",
      "Cell \u001b[1;32mIn[17], line 108\u001b[0m\n\u001b[0;32m    104\u001b[0m     \u001b[38;5;28mprint\u001b[39m(\u001b[38;5;124mf\u001b[39m\u001b[38;5;124m\"\u001b[39m\u001b[38;5;124mSpecies: \u001b[39m\u001b[38;5;132;01m{\u001b[39;00mPerson\u001b[38;5;241m.\u001b[39mspecies\u001b[38;5;132;01m}\u001b[39;00m\u001b[38;5;124m\"\u001b[39m)\n\u001b[0;32m    107\u001b[0m \u001b[38;5;66;03m# Call the main function\u001b[39;00m\n\u001b[1;32m--> 108\u001b[0m \u001b[38;5;28;01mif\u001b[39;00m _name_ \u001b[38;5;241m==\u001b[39m \u001b[38;5;124m\"\u001b[39m\u001b[38;5;124m_main_\u001b[39m\u001b[38;5;124m\"\u001b[39m:\n\u001b[0;32m    109\u001b[0m     main()\n",
      "\u001b[1;31mNameError\u001b[0m: name '_name_' is not defined"
     ]
    }
   ],
   "source": [
    "#sarmi code\n",
    "\n",
    "# Parent class: Person\n",
    "class Person:\n",
    "    # Static variable (shared across all instances)\n",
    "    species = \"Human\"\n",
    "    \n",
    "    # Constructor to initialize instance variables\n",
    "    def _init_(self, name, gender):\n",
    "        self.name = name  # Instance variable\n",
    "        self.gender = gender  # Instance variable\n",
    "\n",
    "    # Method to display details\n",
    "    def display(self):\n",
    "        print(f\"Name: {self.name}, Gender: {self.gender}\")\n",
    "\n",
    "\n",
    "# Multi-level inheritance: Grandparent → Parent → Child\n",
    "class Grandparent(Person):\n",
    "    def _init_(self, name, gender):\n",
    "        super()._init_(name, gender)\n",
    "\n",
    "    def family_role(self):\n",
    "        print(f\"{self.name} is a grandparent.\")\n",
    "\n",
    "\n",
    "class Parent(Grandparent):\n",
    "    def _init_(self, name, gender, occupation):\n",
    "        super()._init_(name, gender)  # Call Grandparent constructor\n",
    "        self.occupation = occupation  # Instance variable\n",
    "\n",
    "    # Method overriding\n",
    "    def family_role(self):\n",
    "        print(f\"{self.name} is a parent.\")\n",
    "\n",
    "    def display_occupation(self):\n",
    "        print(f\"Occupation: {self.occupation}\")\n",
    "\n",
    "\n",
    "# Hierarchical inheritance: Siblings inherit from Parent\n",
    "class Child(Parent):\n",
    "    def _init_(self, name, gender, occupation, hobbies):\n",
    "        super()._init_(name, gender, occupation)  # Call Parent constructor\n",
    "        self.hobbies = hobbies  # Instance variable\n",
    "\n",
    "    # Method overriding\n",
    "    def family_role(self):\n",
    "        print(f\"{self.name} is a child.\")\n",
    "\n",
    "    # Method overloading: Polymorphism through same method name\n",
    "    def display(self, include_hobbies=False):  # Local variable include_hobbies\n",
    "        super().display()\n",
    "        if include_hobbies:\n",
    "            print(f\"Hobbies: {', '.join(self.hobbies)}\")\n",
    "\n",
    "\n",
    "# Multiple inheritance: Mixing family with general Person traits\n",
    "class AdditionalRole:\n",
    "    def describe_role(self):\n",
    "        print(\"This role demonstrates multiple inheritance.\")\n",
    "\n",
    "\n",
    "class ExtendedChild(Child, AdditionalRole):\n",
    "    pass\n",
    "\n",
    "\n",
    "# Encapsulation: Private data with getter methods\n",
    "class Sibling(Child):\n",
    "    def _init_(self, name, gender, occupation, hobbies, age):\n",
    "        super()._init_(name, gender, occupation, hobbies)\n",
    "        self.__age = age  # Private variable\n",
    "\n",
    "    def get_age(self):\n",
    "        return self.__age  # Accessor for private variable\n",
    "\n",
    "\n",
    "# Example Usage\n",
    "def main():\n",
    "    # Create grandparent objects\n",
    "    grandparent1 = Grandparent(\"Thaggavel\", \"Male\")\n",
    "    grandparent2 = Grandparent(\"Nallamma\", \"Female\")\n",
    "\n",
    "    # Create parent objects\n",
    "    parent1 = Parent(\"Panneer\", \"Male\", \"Engineer\")\n",
    "    parent2 = Parent(\"Kannagi\", \"Female\", \"Teacher\")\n",
    "\n",
    "    # Create child objects\n",
    "    child1 = Child(\"Pramila\", \"Female\", \"Student\", [\"Reading\", \"Painting\"])\n",
    "    child2 = Sibling(\"Priya\", \"Female\", \"Student\", [\"Dancing\"], 12)\n",
    "\n",
    "    # Display roles and details\n",
    "    grandparent1.family_role()\n",
    "    grandparent2.family_role()\n",
    "    parent1.family_role()\n",
    "    child1.family_role()\n",
    "    child1.display(include_hobbies=True)\n",
    "    print(f\"Sibling's Age: {child2.get_age()}\")\n",
    "\n",
    "    # Demonstrating polymorphism\n",
    "    for member in [grandparent1, parent1, child1]:\n",
    "        member.display()\n",
    "\n",
    "    # Demonstrating static variable\n",
    "    print(f\"Species: {Person.species}\")\n",
    "\n",
    "\n",
    "# Call the main function\n",
    "if _name_ == \"_main_\":\n",
    "    main()"
   ]
  },
  {
   "cell_type": "code",
   "execution_count": 53,
   "id": "6d7e929b-6459-483a-9ad1-b136e6e25481",
   "metadata": {},
   "outputs": [
    {
     "name": "stdout",
     "output_type": "stream",
     "text": [
      "Shaheed is my grand father. He was born in 1939.\n",
      "He worked as Business manand he has 3!\n",
      "Aysha is my grand mother. She was born in 1936.\n",
      "None\n",
      "Fakeer is my grand father. He was born in 1949.\n",
      "He worked as Business manand he has 2!\n",
      "Saleema is my grand mother. She was born in 1956.\n",
      "None\n"
     ]
    }
   ],
   "source": [
    "#test\n",
    "class Grandparent:\n",
    "    # Encapsulation with private variable\n",
    "    def __init__(self, name, birth_year, occupation, relation, number_of_children):\n",
    "        self.__name = name  # Private instance variable\n",
    "        self.birth_year = birth_year\n",
    "        self.occupation = occupation\n",
    "        self.relation = relation\n",
    "        self.number_of_children = number_of_children        \n",
    "\n",
    "    def intro(self):  # Method overriding will happen in child classes\n",
    "          if self.relation.lower() == \"grand father\":\n",
    "            return f\"{self.__name} is my {self.relation}. He was born in {self.birth_year}.\"\n",
    "          elif self.relation.lower() == \"grand mother\":\n",
    "            return f\"{self.__name} is my {self.relation}. She was born in {self.birth_year}.\"\n",
    "\n",
    "    def tell_story(self):\n",
    "        if self.relation.lower() == \"grand father\":\n",
    "            return f\"He worked as {self.occupation}and he has {self.number_of_children}!\"\n",
    "        elif self.relation.lower() == \"grand father\":\n",
    "            return f\"She worked as {self.occupation}and she has {self.number_of_children}!\"\n",
    "\n",
    "    # Getter for encapsulation\n",
    "    def get_name(self):\n",
    "        return self.__name\n",
    "\n",
    "grandpa1 = Grandparent(\"Shaheed\",\"1939\", \"Business man\",\"grand father\",3)\n",
    "grandpa2 = Grandparent(\"Fakeer\",\"1949\", \"Business man\",\"grand father\",2)\n",
    "grandma1 = Grandparent(\"Aysha\",\"1936\", \"Teacher\",\"grand mother\",3)\n",
    "grandma2= Grandparent(\"Saleema\",\"1956\", \"Business woman\",\"grand mother\",2)\n",
    "# Displaying family tree\n",
    "#Displaying 1st grand parents\n",
    "print(grandpa1.intro())\n",
    "print(grandpa1.tell_story())\n",
    "print(grandma1.intro())\n",
    "print(grandma1.tell_story())\n",
    "# Displaying 2nd grandparents\n",
    "print(grandpa2.intro())\n",
    "print(grandpa2.tell_story())\n",
    "print(grandma2.intro())\n",
    "print(grandma2.tell_story())\n",
    "\n"
   ]
  },
  {
   "cell_type": "code",
   "execution_count": 51,
   "id": "f263d863-bfe9-4dcb-a572-e48103ba1fe9",
   "metadata": {},
   "outputs": [
    {
     "name": "stdout",
     "output_type": "stream",
     "text": [
      "All my family members' hometown is: Colombo\n",
      "Shaheed is my grand father. He was born in 1939.\n",
      "He worked as Business man and he has 3 children.\n",
      "Aysha is my grand mother. She was born in 1936.\n",
      "She worked as Teacher and she has 3 children.\n",
      "Fakeer is my grand father. He was born in 1949.\n",
      "He worked as Business man and he has 2 children.\n",
      "Saleema is my grand mother. She was born in 1956.\n",
      "She worked as Business woman and she has 2 children.\n"
     ]
    }
   ],
   "source": [
    "class Grandparent:\n",
    "    # Encapsulation with private variable\n",
    "    def __init__(self, name, birth_year, occupation, relation, number_of_children):\n",
    "        self.__name = name  # Private instance variable\n",
    "        self.birth_year = birth_year\n",
    "        self.occupation = occupation\n",
    "        self.relation = relation\n",
    "        self.number_of_children = number_of_children        \n",
    "\n",
    "    def intro(self):  # Method overriding will happen in child classes\n",
    "        if self.relation.lower() == \"grand father\":\n",
    "            return f\"{self.__name} is my {self.relation}. He was born in {self.birth_year}.\"\n",
    "        elif self.relation.lower() == \"grand mother\":\n",
    "            return f\"{self.__name} is my {self.relation}. She was born in {self.birth_year}.\"\n",
    "\n",
    "    def tell_story(self):\n",
    "        if self.relation.lower() == \"grand father\":\n",
    "            return f\"He worked as {self.occupation} and he has {self.number_of_children} children.\"\n",
    "        elif self.relation.lower() == \"grand mother\":\n",
    "            return f\"She worked as {self.occupation} and she has {self.number_of_children} children.\"\n",
    "\n",
    "    # Getter for encapsulation\n",
    "    def get_name(self):\n",
    "        return self.__name\n",
    "\n",
    "\n",
    "# Define a hometown for the family\n",
    "\n",
    "\n",
    "# Create grandparent objects\n",
    "grandpa1 = Grandparent(\"Shaheed\", \"1939\", \"Business man\", \"grand father\", 3)\n",
    "grandpa2 = Grandparent(\"Fakeer\", \"1949\", \"Business man\", \"grand father\", 2)\n",
    "grandma1 = Grandparent(\"Aysha\", \"1936\", \"Teacher\", \"grand mother\", 3)\n",
    "grandma2 = Grandparent(\"Saleema\", \"1956\", \"Business woman\", \"grand mother\", 2)\n",
    "\n",
    "# Displaying family tree\n",
    "\n",
    "# Displaying 1st grandparents\n",
    "print(grandpa1.intro())\n",
    "print(grandpa1.tell_story())\n",
    "print(grandma1.intro())\n",
    "print(grandma1.tell_story())\n",
    "# Displaying 2nd grandparents\n",
    "print(grandpa2.intro())\n",
    "print(grandpa2.tell_story())\n",
    "print(grandma2.intro())\n",
    "print(grandma2.tell_story())"
   ]
  },
  {
   "cell_type": "code",
   "execution_count": 67,
   "id": "f48e9b38-b305-4410-a536-f549abf20105",
   "metadata": {},
   "outputs": [
    {
     "name": "stdout",
     "output_type": "stream",
     "text": [
      "Initializing child\n",
      "Initializing child\n",
      "All my family members' hometown is: Batticalo\n",
      "Shaheed is my grand father. He was born in 1939.\n",
      "He worked as Business man and he has 3 children.\n",
      "Aysha is my grand mother. She was born in 1936.\n",
      "She worked as Teacher and she has 3 children.\n",
      "Fakeer is my grand father. He was born in 1949.\n",
      "He worked as Business man and he has 2 children.\n",
      "Saleema is my grand mother. She was born in 1956.\n",
      "She worked as Business woman and she has 2 children.\n",
      "Rauf is my parent with a SLAS background.\n",
      "Focus on Gardening to relax!\n",
      "Mufeetha is my parent with a GCE(A/L) background.\n",
      "Focus on Sewing to relax!\n",
      "Hi, I’m Musharraf, studying at Horizon Campus, and I love Call of Duty!\n",
      "Playing Call of Duty now!\n",
      "Munsif is my brother, studying at Colombo University, and he loves Halo!\n",
      "Playing Halo for 2 hour(s)!\n",
      "His talent is Singing.\n"
     ]
    }
   ],
   "source": [
    "# IT21043 - Software Construction Technologies Tools\n",
    "# Assignment 2 - Family Tree with OOP Concepts\n",
    "# MRAR. Musharraf\n",
    "# ID-ITBIN-2313-0067\n",
    "\n",
    "Home_town_of_my_family = 'Batticalo'  # Static variable\n",
    "\n",
    "class Grandparent:\n",
    "    # Encapsulation with private variable\n",
    "    def __init__(self, name, birth_year, occupation, relation, number_of_children):\n",
    "        self.__name = name  # Private instance variable\n",
    "        self.birth_year = birth_year\n",
    "        self.occupation = occupation\n",
    "        self.relation = relation\n",
    "        self.number_of_children = number_of_children        \n",
    "\n",
    "    def intro(self):  # Method overriding will happen in child classes\n",
    "        if self.relation.lower() == \"grand father\":\n",
    "            return f\"{self.__name} is my {self.relation}. He was born in {self.birth_year}.\"\n",
    "        elif self.relation.lower() == \"grand mother\":\n",
    "            return f\"{self.__name} is my {self.relation}. She was born in {self.birth_year}.\"\n",
    "\n",
    "    def tell_story(self):\n",
    "        if self.relation.lower() == \"grand father\":\n",
    "            return f\"He worked as {self.occupation} and he has {self.number_of_children} children.\"\n",
    "        elif self.relation.lower() == \"grand mother\":\n",
    "            return f\"She worked as {self.occupation} and she has {self.number_of_children} children.\"\n",
    "\n",
    "    # Getter for encapsulation\n",
    "    def get_name(self):\n",
    "        return self.__name\n",
    "\n",
    "\n",
    "# Multi-level inheritance: Parent inherits from Grandparent\n",
    "class Parent(Grandparent):\n",
    "    def __init__(self, name, birth_year, occupation, education, hobby):\n",
    "        super().__init__(name, birth_year, occupation, \"Parent\", 0)  # Fixed relation and number_of_children\n",
    "        self.education = education\n",
    "        self.hobby = hobby  # Fixed missing attribute initialization\n",
    "\n",
    "    # Method overriding\n",
    "    def intro(self):\n",
    "        return f\"{self.get_name()} is my parent with a {self.education} background.\"\n",
    "\n",
    "    def give_advice(self):\n",
    "        return f\"Focus on {self.hobby} to relax!\"\n",
    "\n",
    "\n",
    "# Hierarchical inheritance: Child inherits from Parent\n",
    "class Child(Parent):\n",
    "    # Local variable used in method\n",
    "    def __init__(self, name, birth_year, school, hobby, favorite_game):\n",
    "        local_status = \"Initializing child\"  # Local variable\n",
    "        print(local_status)\n",
    "        super().__init__(name, birth_year, \"Student\", \"High School\", hobby)\n",
    "        self.school = school\n",
    "        self.favorite_game = favorite_game\n",
    "\n",
    "    # Method overriding (polymorphism)\n",
    "    def intro(self):\n",
    "        if self.get_name().lower() == \"musharraf\":  # Fixed indentation\n",
    "            return f\"Hi, I’m {self.get_name()}, studying at {self.school}, and I love {self.favorite_game}!\"\n",
    "        else:\n",
    "            return f\"{self.get_name()} is my brother, studying at {self.school}, and he loves {self.favorite_game}!\"\n",
    "\n",
    "    def play_game(self):\n",
    "        return f\"Playing {self.favorite_game} now!\"\n",
    "\n",
    "\n",
    "# Multiple inheritance: Sibling inherits from Child and another class\n",
    "class Talent:\n",
    "    def __init__(self, skill):\n",
    "        self.skill = skill\n",
    "\n",
    "    def show_talent(self):\n",
    "        return f\"His talent is {self.skill}.\"\n",
    "\n",
    "\n",
    "class Sibling(Child, Talent):\n",
    "    def __init__(self, name, birth_year, school, hobby, favorite_game, skill):\n",
    "        Child.__init__(self, name, birth_year, school, hobby, favorite_game)\n",
    "        Talent.__init__(self, skill)\n",
    "\n",
    "    # Method overloading simulation (Python doesn’t support true overloading, so we use default arguments)\n",
    "    def play_game(self, hours=1):\n",
    "        return f\"Playing {self.favorite_game} for {hours} hour(s)!\"\n",
    "\n",
    "\n",
    "# Creating family tree instances\n",
    "grandpa1 = Grandparent(\"Shaheed\", \"1939\", \"Business man\", \"grand father\", 3)\n",
    "grandpa2 = Grandparent(\"Fakeer\", \"1949\", \"Business man\", \"grand father\", 2)\n",
    "grandma1 = Grandparent(\"Aysha\", \"1936\", \"Teacher\", \"grand mother\", 3)\n",
    "grandma2 = Grandparent(\"Saleema\", \"1956\", \"Business woman\", \"grand mother\", 2)\n",
    "mother = Parent(\"Mufeetha\", 45, \"House wife\", \"GCE(A/L)\", \"Sewing\")\n",
    "father = Parent(\"Rauf\", 56, \"Officer\", \"SLAS\", \"Gardening\")\n",
    "me = Child(\"Musharraf\", 24, \"Horizon Campus\", \"Coding\", \"Call of Duty\")\n",
    "sibling = Sibling(\"Munsif\", 20, \"Colombo University\", \"Reading\", \"Halo\", \"Singing\")\n",
    "\n",
    "# Displaying family tree\n",
    "print(f\"All my family members' hometown is: {Home_town_of_my_family}\")\n",
    "# Displaying 1st grandparents\n",
    "print(grandpa1.intro())\n",
    "print(grandpa1.tell_story())\n",
    "print(grandma1.intro())\n",
    "print(grandma1.tell_story())\n",
    "# Displaying 2nd grandparents\n",
    "print(grandpa2.intro())\n",
    "print(grandpa2.tell_story())\n",
    "print(grandma2.intro())\n",
    "print(grandma2.tell_story())\n",
    "# Displaying my parents\n",
    "print(father.intro())\n",
    "print(father.give_advice())\n",
    "print(mother.intro())\n",
    "print(mother.give_advice())\n",
    "# Displaying me and my sibling\n",
    "print(me.intro())\n",
    "print(me.play_game())\n",
    "print(sibling.intro())\n",
    "print(sibling.play_game(2))  # Polymorphism with method overloading\n",
    "print(sibling.show_talent())  # Multiple inheritance"
   ]
  },
  {
   "cell_type": "markdown",
   "id": "23948bc3-a7c5-41e8-bf0b-45b65568aeb0",
   "metadata": {},
   "source": [
    "API"
   ]
  },
  {
   "cell_type": "code",
   "execution_count": 78,
   "id": "0b59a1d4-a7cd-4a20-96b2-d6cf904f4540",
   "metadata": {},
   "outputs": [
    {
     "name": "stdout",
     "output_type": "stream",
     "text": [
      "Error fetching data from API: 403 Client Error: Forbidden for url: https://imdb232.p.rapidapi.com/api/news/get-by-category?limit=25&category=CELEBRITY&q=Colombo\n"
     ]
    }
   ],
   "source": [
    "import requests\n",
    "import pandas as pd\n",
    "\n",
    "# API setup\n",
    "url = \"https://imdb232.p.rapidapi.com/api/news/get-by-category?limit=25&category=CELEBRITY\"\n",
    "querystring = {\"q\": \"Colombo\"}  # Location: Colombo, Sri Lanka\n",
    "headers = {\n",
    "    \"X-RapidAPI-Key\": \"8bb5af1a62msh846215e38e1c51bp1eb999jsn44cf1cdad52f\",  # Replace with your RapidAPI key\n",
    "    \"X-RapidAPI-Host\": \"imdb232.p.rapidapi.com\"\n",
    "\n",
    "\n",
    "   # curl --request GET \\\n",
    "\t#--url 'https://imdb232.p.rapidapi.com/api/news/get-by-category?limit=25&category=CELEBRITY' \\\n",
    "\t#--header 'x-rapidapi-host: imdb232.p.rapidapi.com' \\\n",
    "\t#--header 'x-rapidapi-key: 8bb5af1a62msh846215e38e1c51bp1eb999jsn44cf1cdad52f'\n",
    "}\n",
    "\n",
    "try:\n",
    "    # Fetch data\n",
    "    response = requests.get(url, headers=headers, params=querystring)\n",
    "    response.raise_for_status()  # Raise an HTTPError for bad responses (4xx and 5xx)\n",
    "    data = response.json()\n",
    "\n",
    "    # Validate and parse the response data\n",
    "    if \"location\" in data and \"current\" in data:\n",
    "        weather_df = pd.DataFrame({\n",
    "            \"Location\": [data[\"location\"][\"name\"]],\n",
    "            \"Temperature (C)\": [data[\"current\"][\"temp_c\"]],\n",
    "            \"Condition\": [data[\"current\"][\"condition\"][\"text\"]]\n",
    "        })\n",
    "\n",
    "        # Display DataFrame\n",
    "        print(weather_df)\n",
    "    else:\n",
    "        print(\"Error: The response JSON does not contain the expected keys.\")\n",
    "\n",
    "except requests.exceptions.RequestException as e:\n",
    "    print(f\"Error fetching data from API: {e}\")\n",
    "except KeyError as e:\n",
    "    print(f\"KeyError: {e} - Check if the API response structure has changed.\")"
   ]
  },
  {
   "cell_type": "code",
   "execution_count": 74,
   "id": "5db4a115-d021-4694-8e1e-2ed7ecbd3b54",
   "metadata": {},
   "outputs": [
    {
     "name": "stdout",
     "output_type": "stream",
     "text": [
      "pandas is installed.\n"
     ]
    }
   ],
   "source": [
    "try:\n",
    "    import pandas\n",
    "    print(\"pandas is installed.\")\n",
    "except ImportError:\n",
    "    print(\"pandas is not installed.\")"
   ]
  },
  {
   "cell_type": "code",
   "execution_count": 76,
   "id": "43ecedcc-5b68-48ca-877c-bd9db49d3570",
   "metadata": {},
   "outputs": [
    {
     "name": "stdout",
     "output_type": "stream",
     "text": [
      "2.2.2\n"
     ]
    }
   ],
   "source": [
    "import pandas as pd\n",
    "print(pd.__version__)  # This will print the pandas version if installed"
   ]
  },
  {
   "cell_type": "code",
   "execution_count": 2,
   "id": "fe8659a6-eecc-4a29-9ad2-d4763611d0ee",
   "metadata": {},
   "outputs": [
    {
     "name": "stdout",
     "output_type": "stream",
     "text": [
      "Error: Unable to fetch data. Status code: 403\n"
     ]
    },
    {
     "ename": "NameError",
     "evalue": "name 'data' is not defined",
     "output_type": "error",
     "traceback": [
      "\u001b[1;31m---------------------------------------------------------------------------\u001b[0m",
      "\u001b[1;31mNameError\u001b[0m                                 Traceback (most recent call last)",
      "Cell \u001b[1;32mIn[2], line 29\u001b[0m\n\u001b[0;32m     25\u001b[0m     exit()\n\u001b[0;32m     27\u001b[0m \u001b[38;5;66;03m# Extract relevant data (assuming the API returns a list of results)\u001b[39;00m\n\u001b[0;32m     28\u001b[0m \u001b[38;5;66;03m# Adjust based on the actual API response structure\u001b[39;00m\n\u001b[1;32m---> 29\u001b[0m results \u001b[38;5;241m=\u001b[39m data\u001b[38;5;241m.\u001b[39mget(\u001b[38;5;124m\"\u001b[39m\u001b[38;5;124mdata\u001b[39m\u001b[38;5;124m\"\u001b[39m, [])  \u001b[38;5;66;03m# 'data' is assumed; check response if different\u001b[39;00m\n\u001b[0;32m     31\u001b[0m \u001b[38;5;66;03m# Create a list of dictionaries for pandas DataFrame\u001b[39;00m\n\u001b[0;32m     32\u001b[0m validation_list \u001b[38;5;241m=\u001b[39m []\n",
      "\u001b[1;31mNameError\u001b[0m: name 'data' is not defined"
     ]
    }
   ],
   "source": [
    "import requests\n",
    "import pandas as pd\n",
    "\n",
    "# API setup\n",
    "url = \"https://whatsapp-number-validator3.p.rapidapi.com/WhatsappNumberHasItBulkWithToken\"\n",
    "headers = {\n",
    "    \"Content-Type\": \"application/json\",\n",
    "    \"x-rapidapi-host\": \"whatsapp-number-validator3.p.rapidapi.com\",\n",
    "    \"x-rapidapi-key\": \"8bb5af1a62msh846215e38e1c51bp1eb999jsn44cf1cdad52f\"  # Your API key\n",
    "}\n",
    "\n",
    "# Data payload (list of phone numbers to validate)\n",
    "payload = {\n",
    "    \"phone_numbers\": [\"447748188019\", \"447999999999\", \"447999999977\"]\n",
    "}\n",
    "\n",
    "# Fetch data from the API using POST request\n",
    "response = requests.post(url, headers=headers, json=payload)\n",
    "\n",
    "# Check if the request was successful\n",
    "if response.status_code == 200:\n",
    "    data = response.json()  # Parse JSON response\n",
    "else:\n",
    "    print(f\"Error: Unable to fetch data. Status code: {response.status_code}\")\n",
    "    exit()\n",
    "\n",
    "# Extract relevant data (assuming the API returns a list of results)\n",
    "# Adjust based on the actual API response structure\n",
    "results = data.get(\"data\", [])  # 'data' is assumed; check response if different\n",
    "\n",
    "# Create a list of dictionaries for pandas DataFrame\n",
    "validation_list = []\n",
    "for item in results:\n",
    "    validation_list.append({\n",
    "        \"Phone Number\": item.get(\"phone_number\", \"N/A\"),        # Phone number checked\n",
    "        \"Is Valid\": item.get(\"is_valid\", \"N/A\"),               # Whether it's a valid number\n",
    "        \"Has WhatsApp\": item.get(\"has_whatsapp\", \"N/A\"),       # WhatsApp status\n",
    "        \"Country Code\": item.get(\"country_code\", \"N/A\"),       # Country code (e.g., +44)\n",
    "        \"Message\": item.get(\"message\", \"N/A\")                  # Any additional info\n",
    "    })\n",
    "\n",
    "# Convert to pandas DataFrame\n",
    "df = pd.DataFrame(validation_list)\n",
    "\n",
    "# Display the DataFrame\n",
    "print(\"WhatsApp Number Validation Results:\")\n",
    "print(df)\n",
    "\n",
    "# Display number of records, column details, etc.\n",
    "print(f\"\\nNumber of records: {len(df)}\")\n",
    "print(f\"Columns: {df.columns.tolist()}\")\n",
    "print(f\"Data types:\\n{df.dtypes}\")\n",
    "print(f\"First few rows:\\n{df.head()}\")\n",
    "\n",
    "# Optional: Save to CSV for your PDF documentation\n",
    "df.to_csv(\"whatsapp_validation.csv\", index=False)\n",
    "print(\"\\nData saved to 'whatsapp_validation.csv' for reference.\")"
   ]
  },
  {
   "cell_type": "code",
   "execution_count": 6,
   "id": "1dac9f76-856e-410d-9a79-d3c518b681c4",
   "metadata": {},
   "outputs": [
    {
     "name": "stdout",
     "output_type": "stream",
     "text": [
      "Error: Unable to fetch data. Status code: 403\n",
      "Response: {\"message\":\"You are not subscribed to this API.\"}\n"
     ]
    },
    {
     "ename": "Exception",
     "evalue": "API request failed. Check your API key or subscription.",
     "output_type": "error",
     "traceback": [
      "\u001b[1;31m---------------------------------------------------------------------------\u001b[0m",
      "\u001b[1;31mException\u001b[0m                                 Traceback (most recent call last)",
      "Cell \u001b[1;32mIn[6], line 18\u001b[0m\n\u001b[0;32m     16\u001b[0m     \u001b[38;5;28mprint\u001b[39m(\u001b[38;5;124mf\u001b[39m\u001b[38;5;124m\"\u001b[39m\u001b[38;5;124mError: Unable to fetch data. Status code: \u001b[39m\u001b[38;5;132;01m{\u001b[39;00mresponse\u001b[38;5;241m.\u001b[39mstatus_code\u001b[38;5;132;01m}\u001b[39;00m\u001b[38;5;124m\"\u001b[39m)\n\u001b[0;32m     17\u001b[0m     \u001b[38;5;28mprint\u001b[39m(\u001b[38;5;124mf\u001b[39m\u001b[38;5;124m\"\u001b[39m\u001b[38;5;124mResponse: \u001b[39m\u001b[38;5;132;01m{\u001b[39;00mresponse\u001b[38;5;241m.\u001b[39mtext\u001b[38;5;132;01m}\u001b[39;00m\u001b[38;5;124m\"\u001b[39m)\n\u001b[1;32m---> 18\u001b[0m     \u001b[38;5;28;01mraise\u001b[39;00m \u001b[38;5;167;01mException\u001b[39;00m(\u001b[38;5;124m\"\u001b[39m\u001b[38;5;124mAPI request failed. Check your API key or subscription.\u001b[39m\u001b[38;5;124m\"\u001b[39m)\n\u001b[0;32m     20\u001b[0m \u001b[38;5;66;03m# Parse the response\u001b[39;00m\n\u001b[0;32m     21\u001b[0m data \u001b[38;5;241m=\u001b[39m response\u001b[38;5;241m.\u001b[39mjson()\n",
      "\u001b[1;31mException\u001b[0m: API request failed. Check your API key or subscription."
     ]
    }
   ],
   "source": [
    "import requests\n",
    "import pandas as pd\n",
    "\n",
    "# API setup\n",
    "url = \"https://imdb236.p.rapidapi.com/imdb/lowest-rated-movies\"\n",
    "headers = {\n",
    "    \"x-rapidapi-key\": \"8bb5af1a62msh846215e38e1c51bp1eb999jsn44cf1cdad52f\",  # Your API key\n",
    "    \"x-rapidapi-host\": \"imdb236.p.rapidapi.com\"\n",
    "}\n",
    "\n",
    "# Fetch data from the API using GET request\n",
    "response = requests.get(url, headers=headers)\n",
    "\n",
    "# Check if the request was successful\n",
    "if response.status_code != 200:\n",
    "    print(f\"Error: Unable to fetch data. Status code: {response.status_code}\")\n",
    "    print(f\"Response: {response.text}\")\n",
    "    raise Exception(\"API request failed. Check your API key or subscription.\")\n",
    "\n",
    "# Parse the response\n",
    "data = response.json()\n",
    "\n",
    "# Extract relevant data (assuming the API returns a list of movies)\n",
    "# Adjust based on the actual API response structure\n",
    "movies = data.get(\"data\", [])  # 'data' is assumed; check response if different\n",
    "\n",
    "# Create a list of dictionaries for pandas DataFrame\n",
    "movie_list = []\n",
    "for item in movies:\n",
    "    movie_list.append({\n",
    "        \"Title\": item.get(\"title\", \"N/A\"),               # Movie title\n",
    "        \"Year\": item.get(\"year\", \"N/A\"),                 # Release year\n",
    "        \"Rating\": item.get(\"rating\", \"N/A\"),             # IMDb rating\n",
    "        \"Votes\": item.get(\"votes\", \"N/A\"),               # Number of votes\n",
    "        \"Genre\": item.get(\"genre\", \"N/A\")                # Genre (if available)\n",
    "    })\n",
    "\n",
    "# Convert to pandas DataFrame\n",
    "df = pd.DataFrame(movie_list)\n",
    "\n",
    "# Display the DataFrame\n",
    "print(\"Lowest-Rated Movies from IMDb API:\")\n",
    "print(df)\n",
    "\n",
    "# Display number of records, column details, etc.\n",
    "print(f\"\\nNumber of records: {len(df)}\")\n",
    "print(f\"Columns: {df.columns.tolist()}\")\n",
    "print(f\"Data types:\\n{df.dtypes}\")\n",
    "print(f\"First few rows:\\n{df.head()}\")\n",
    "\n",
    "# Optional: Save to CSV for your PDF documentation\n",
    "df.to_csv(\"lowest_rated_movies.csv\", index=False)\n",
    "print(\"\\nData saved to 'lowest_rated_movies.csv' for reference.\")"
   ]
  },
  {
   "cell_type": "code",
   "execution_count": 8,
   "id": "ae3a2061-47b6-4d5d-8fe0-0d8b9ffbdd21",
   "metadata": {},
   "outputs": [
    {
     "name": "stdout",
     "output_type": "stream",
     "text": [
      "Error: Unable to fetch data. Status code: 403\n",
      "Response: {\"message\":\"You are not subscribed to this API.\"}\n"
     ]
    },
    {
     "ename": "Exception",
     "evalue": "API request failed. Check your API key or subscription.",
     "output_type": "error",
     "traceback": [
      "\u001b[1;31m---------------------------------------------------------------------------\u001b[0m",
      "\u001b[1;31mException\u001b[0m                                 Traceback (most recent call last)",
      "Cell \u001b[1;32mIn[8], line 22\u001b[0m\n\u001b[0;32m     20\u001b[0m     \u001b[38;5;28mprint\u001b[39m(\u001b[38;5;124mf\u001b[39m\u001b[38;5;124m\"\u001b[39m\u001b[38;5;124mError: Unable to fetch data. Status code: \u001b[39m\u001b[38;5;132;01m{\u001b[39;00mres\u001b[38;5;241m.\u001b[39mstatus\u001b[38;5;132;01m}\u001b[39;00m\u001b[38;5;124m\"\u001b[39m)\n\u001b[0;32m     21\u001b[0m     \u001b[38;5;28mprint\u001b[39m(\u001b[38;5;124mf\u001b[39m\u001b[38;5;124m\"\u001b[39m\u001b[38;5;124mResponse: \u001b[39m\u001b[38;5;132;01m{\u001b[39;00mres\u001b[38;5;241m.\u001b[39mread()\u001b[38;5;241m.\u001b[39mdecode(\u001b[38;5;124m'\u001b[39m\u001b[38;5;124mutf-8\u001b[39m\u001b[38;5;124m'\u001b[39m)\u001b[38;5;132;01m}\u001b[39;00m\u001b[38;5;124m\"\u001b[39m)\n\u001b[1;32m---> 22\u001b[0m     \u001b[38;5;28;01mraise\u001b[39;00m \u001b[38;5;167;01mException\u001b[39;00m(\u001b[38;5;124m\"\u001b[39m\u001b[38;5;124mAPI request failed. Check your API key or subscription.\u001b[39m\u001b[38;5;124m\"\u001b[39m)\n\u001b[0;32m     24\u001b[0m \u001b[38;5;66;03m# Read and parse the response\u001b[39;00m\n\u001b[0;32m     25\u001b[0m data \u001b[38;5;241m=\u001b[39m res\u001b[38;5;241m.\u001b[39mread()\u001b[38;5;241m.\u001b[39mdecode(\u001b[38;5;124m\"\u001b[39m\u001b[38;5;124mutf-8\u001b[39m\u001b[38;5;124m\"\u001b[39m)\n",
      "\u001b[1;31mException\u001b[0m: API request failed. Check your API key or subscription."
     ]
    }
   ],
   "source": [
    "import http.client\n",
    "import json\n",
    "import pandas as pd\n",
    "\n",
    "# API setup\n",
    "conn = http.client.HTTPSConnection(\"imdb236.p.rapidapi.com\")\n",
    "headers = {\n",
    "    \"x-rapidapi-key\": \"8bb5af1a62msh846215e38e1c51bp1eb999jsn44cf1cdad52f\",  # Your API key\n",
    "    \"x-rapidapi-host\": \"imdb236.p.rapidapi.com\"\n",
    "}\n",
    "\n",
    "# Send GET request to the API\n",
    "conn.request(\"GET\", \"/imdb/lowest-rated-movies\", headers=headers)\n",
    "\n",
    "# Get the response\n",
    "res = conn.getresponse()\n",
    "\n",
    "# Check if the request was successful\n",
    "if res.status != 200:\n",
    "    print(f\"Error: Unable to fetch data. Status code: {res.status}\")\n",
    "    print(f\"Response: {res.read().decode('utf-8')}\")\n",
    "    raise Exception(\"API request failed. Check your API key or subscription.\")\n",
    "\n",
    "# Read and parse the response\n",
    "data = res.read().decode(\"utf-8\")\n",
    "data = json.loads(data)  # Convert JSON string to Python dictionary\n",
    "\n",
    "# Extract relevant data (assuming the API returns a list of movies)\n",
    "# Adjust based on the actual API response structure\n",
    "movies = data.get(\"data\", [])  # 'data' is assumed; check response if different\n",
    "\n",
    "# Create a list of dictionaries for pandas DataFrame\n",
    "movie_list = []\n",
    "for item in movies:\n",
    "    movie_list.append({\n",
    "        \"Title\": item.get(\"title\", \"N/A\"),               # Movie title\n",
    "        \"Year\": item.get(\"year\", \"N/A\"),                 # Release year\n",
    "        \"Rating\": item.get(\"rating\", \"N/A\"),             # IMDb rating\n",
    "        \"Votes\": item.get(\"votes\", \"N/A\"),               # Number of votes\n",
    "        \"Genre\": item.get(\"genre\", \"N/A\")                # Genre (if available)\n",
    "    })\n",
    "\n",
    "# Convert to pandas DataFrame\n",
    "df = pd.DataFrame(movie_list)\n",
    "\n",
    "# Display the DataFrame\n",
    "print(\"Lowest-Rated Movies from IMDb API:\")\n",
    "print(df)\n",
    "\n",
    "# Display number of records, column details, etc.\n",
    "print(f\"\\nNumber of records: {len(df)}\")\n",
    "print(f\"Columns: {df.columns.tolist()}\")\n",
    "print(f\"Data types:\\n{df.dtypes}\")\n",
    "print(f\"First few rows:\\n{df.head()}\")\n",
    "\n",
    "# Optional: Save to CSV for your PDF documentation\n",
    "df.to_csv(\"lowest_rated_movies.csv\", index=False)\n",
    "print(\"\\nData saved to 'lowest_rated_movies.csv' for reference.\")\n",
    "\n",
    "# Close the connection\n",
    "conn.close()"
   ]
  },
  {
   "cell_type": "code",
   "execution_count": 12,
   "id": "587e643e-ecc9-4665-b7f2-38deaf57ce1e",
   "metadata": {},
   "outputs": [
    {
     "ename": "SyntaxError",
     "evalue": "unterminated string literal (detected at line 8) (430725884.py, line 8)",
     "output_type": "error",
     "traceback": [
      "\u001b[1;36m  Cell \u001b[1;32mIn[12], line 8\u001b[1;36m\u001b[0m\n\u001b[1;33m    \"x-rapidapi-key\": \"8911a7dfcbmshaddf5cde5886d3ep1d5824jsn77668cc0156f  # Your API key\u001b[0m\n\u001b[1;37m                      ^\u001b[0m\n\u001b[1;31mSyntaxError\u001b[0m\u001b[1;31m:\u001b[0m unterminated string literal (detected at line 8)\n"
     ]
    }
   ],
   "source": [
    "import http.client\n",
    "import json\n",
    "import pandas as pd\n",
    "\n",
    "# API setup\n",
    "conn = http.client.HTTPSConnection(\"whatsapp-osint.p.rapidapi.com\")\n",
    "headers = {\n",
    "    \"x-rapidapi-key\": \"8911a7dfcbmshaddf5cde5886d3ep1d5824jsn77668cc0156f  # Your API key\n",
    "    \"x-rapidapi-host\": \"whatsapp-osint.p.rapidapi.com\"\n",
    "}\n",
    "\n",
    "# Send GET request to the API\n",
    "phone_number = \"34631428039\"  # Phone number to query\n",
    "conn.request(\"GET\", f\"/wspic/b64?phone={phone_number}\", headers=headers)\n",
    "\n",
    "# Get the response\n",
    "res = conn.getresponse()\n",
    "\n",
    "# Check if the request was successful\n",
    "if res.status != 200:\n",
    "    print(f\"Error: Unable to fetch data. Status code: {res.status}\")\n",
    "    print(f\"Response: {res.read().decode('utf-8')}\")\n",
    "    raise Exception(\"API request failed. Check your API key or subscription.\")\n",
    "\n",
    "# Read and parse the response\n",
    "data = res.read().decode(\"utf-8\")\n",
    "data = json.loads(data)  # Convert JSON string to Python dictionary\n",
    "\n",
    "# Extract relevant data\n",
    "# Adjust based on the actual API response structure\n",
    "# Assuming the API returns a structure like {\"status\": \"success\", \"phone\": \"34631428039\", \"image\": \"base64_string\"}\n",
    "result = {\n",
    "    \"Phone Number\": data.get(\"phone\", \"N/A\"),           # Phone number queried\n",
    "    \"Status\": data.get(\"status\", \"N/A\"),               # Status of the request\n",
    "    \"Image (Base64)\": data.get(\"image\", \"N/A\")[:50] + \"...\" if data.get(\"image\") else \"N/A\"  # Truncated base64 image data for display\n",
    "}\n",
    "\n",
    "# Convert to pandas DataFrame\n",
    "df = pd.DataFrame([result])  # Create a single-row DataFrame\n",
    "\n",
    "# Display the DataFrame\n",
    "print(\"WhatsApp Profile Picture Data from WhatsApp OSINT API:\")\n",
    "print(df)\n",
    "\n",
    "# Display number of records, column details, etc.\n",
    "print(f\"\\nNumber of records: {len(df)}\")\n",
    "print(f\"Columns: {df.columns.tolist()}\")\n",
    "print(f\"Data types:\\n{df.dtypes}\")\n",
    "print(f\"First few rows:\\n{df.head()}\")\n",
    "\n",
    "# Optional: Save to CSV for your PDF documentation\n",
    "df.to_csv(\"whatsapp_profile_data.csv\", index=False)\n",
    "print(\"\\nData saved to 'whatsapp_profile_data.csv' for reference.\")\n",
    "\n",
    "# Close the connection\n",
    "conn.close()"
   ]
  },
  {
   "cell_type": "code",
   "execution_count": 14,
   "id": "139757f0-fc80-4605-bed3-6ab7e970324c",
   "metadata": {},
   "outputs": [
    {
     "name": "stdout",
     "output_type": "stream",
     "text": [
      "Error: Unable to fetch data. Status code: 403\n",
      "Response: {\"message\":\"You are not subscribed to this API.\"}\n"
     ]
    },
    {
     "ename": "Exception",
     "evalue": "API request failed. Check your API key or subscription.",
     "output_type": "error",
     "traceback": [
      "\u001b[1;31m---------------------------------------------------------------------------\u001b[0m",
      "\u001b[1;31mException\u001b[0m                                 Traceback (most recent call last)",
      "Cell \u001b[1;32mIn[14], line 23\u001b[0m\n\u001b[0;32m     21\u001b[0m     \u001b[38;5;28mprint\u001b[39m(\u001b[38;5;124mf\u001b[39m\u001b[38;5;124m\"\u001b[39m\u001b[38;5;124mError: Unable to fetch data. Status code: \u001b[39m\u001b[38;5;132;01m{\u001b[39;00mres\u001b[38;5;241m.\u001b[39mstatus\u001b[38;5;132;01m}\u001b[39;00m\u001b[38;5;124m\"\u001b[39m)\n\u001b[0;32m     22\u001b[0m     \u001b[38;5;28mprint\u001b[39m(\u001b[38;5;124mf\u001b[39m\u001b[38;5;124m\"\u001b[39m\u001b[38;5;124mResponse: \u001b[39m\u001b[38;5;132;01m{\u001b[39;00mres\u001b[38;5;241m.\u001b[39mread()\u001b[38;5;241m.\u001b[39mdecode(\u001b[38;5;124m'\u001b[39m\u001b[38;5;124mutf-8\u001b[39m\u001b[38;5;124m'\u001b[39m)\u001b[38;5;132;01m}\u001b[39;00m\u001b[38;5;124m\"\u001b[39m)\n\u001b[1;32m---> 23\u001b[0m     \u001b[38;5;28;01mraise\u001b[39;00m \u001b[38;5;167;01mException\u001b[39;00m(\u001b[38;5;124m\"\u001b[39m\u001b[38;5;124mAPI request failed. Check your API key or subscription.\u001b[39m\u001b[38;5;124m\"\u001b[39m)\n\u001b[0;32m     25\u001b[0m \u001b[38;5;66;03m# Read and parse the response\u001b[39;00m\n\u001b[0;32m     26\u001b[0m data \u001b[38;5;241m=\u001b[39m res\u001b[38;5;241m.\u001b[39mread()\u001b[38;5;241m.\u001b[39mdecode(\u001b[38;5;124m\"\u001b[39m\u001b[38;5;124mutf-8\u001b[39m\u001b[38;5;124m\"\u001b[39m)\n",
      "\u001b[1;31mException\u001b[0m: API request failed. Check your API key or subscription."
     ]
    }
   ],
   "source": [
    "import http.client\n",
    "import json\n",
    "import pandas as pd\n",
    "\n",
    "# API setup\n",
    "conn = http.client.HTTPSConnection(\"whatsapp-osint.p.rapidapi.com\")\n",
    "headers = {\n",
    "    \"x-rapidapi-key\": \"8911a7dfcbmshaddf5cde5886d3ep1d5824jsn77668cc0156f\",  # Updated API key\n",
    "    \"x-rapidapi-host\": \"whatsapp-osint.p.rapidapi.com\"\n",
    "}\n",
    "\n",
    "# Send GET request to the API\n",
    "phone_number = \"34631428039\"  # Phone number to query\n",
    "conn.request(\"GET\", f\"/wspic/b64?phone={phone_number}\", headers=headers)\n",
    "\n",
    "# Get the response\n",
    "res = conn.getresponse()\n",
    "\n",
    "# Check if the request was successful\n",
    "if res.status != 200:\n",
    "    print(f\"Error: Unable to fetch data. Status code: {res.status}\")\n",
    "    print(f\"Response: {res.read().decode('utf-8')}\")\n",
    "    raise Exception(\"API request failed. Check your API key or subscription.\")\n",
    "\n",
    "# Read and parse the response\n",
    "data = res.read().decode(\"utf-8\")\n",
    "data = json.loads(data)  # Convert JSON string to Python dictionary\n",
    "\n",
    "# Extract relevant data\n",
    "# Adjust based on the actual API response structure\n",
    "# Assuming the API returns a structure like {\"status\": \"success\", \"phone\": \"34631428039\", \"image\": \"base64_string\"}\n",
    "result = {\n",
    "    \"Phone Number\": data.get(\"phone\", \"N/A\"),           # Phone number queried\n",
    "    \"Status\": data.get(\"status\", \"N/A\"),               # Status of the request\n",
    "    \"Image (Base64)\": data.get(\"image\", \"N/A\")[:50] + \"...\" if data.get(\"image\") else \"N/A\"  # Truncated base64 image data for display\n",
    "}\n",
    "\n",
    "# Convert to pandas DataFrame\n",
    "df = pd.DataFrame([result])  # Create a single-row DataFrame\n",
    "\n",
    "# Display the DataFrame\n",
    "print(\"WhatsApp Profile Picture Data from WhatsApp OSINT API:\")\n",
    "print(df)\n",
    "\n",
    "# Display number of records, column details, etc.\n",
    "print(f\"\\nNumber of records: {len(df)}\")\n",
    "print(f\"Columns: {df.columns.tolist()}\")\n",
    "print(f\"Data types:\\n{df.dtypes}\")\n",
    "print(f\"First few rows:\\n{df.head()}\")\n",
    "\n",
    "# Optional: Save to CSV for your PDF documentation\n",
    "df.to_csv(\"whatsapp_profile_data.csv\", index=False)\n",
    "print(\"\\nData saved to 'whatsapp_profile_data.csv' for reference.\")\n",
    "\n",
    "# Close the connection\n",
    "conn.close()"
   ]
  },
  {
   "cell_type": "code",
   "execution_count": 17,
   "id": "e5f1ba9f-d98b-4d31-af16-6c4610b92de1",
   "metadata": {},
   "outputs": [
    {
     "name": "stdout",
     "output_type": "stream",
     "text": [
      "{\"message\":\"You are not subscribed to this API.\"}\n"
     ]
    }
   ],
   "source": [
    "import http.client\n",
    "\n",
    "conn = http.client.HTTPSConnection(\"whatsapp-osint.p.rapidapi.com\")\n",
    "\n",
    "headers = {\n",
    "    'x-rapidapi-key': \"8911a7dfcbmshaddf5cde5886d3ep1d5824jsn77668cc0156f\",\n",
    "    'x-rapidapi-host': \"whatsapp-osint.p.rapidapi.com\"\n",
    "}\n",
    "\n",
    "conn.request(\"GET\", \"/wspic/dck?phone=34631428039\", headers=headers)\n",
    "\n",
    "res = conn.getresponse()\n",
    "data = res.read()\n",
    "\n",
    "print(data.decode(\"utf-8\"))"
   ]
  },
  {
   "cell_type": "code",
   "execution_count": 21,
   "id": "73c9dd52-bcee-4a5b-9859-8617d9664ece",
   "metadata": {},
   "outputs": [
    {
     "name": "stdout",
     "output_type": "stream",
     "text": [
      "Error: Unable to fetch data. Status code: 403\n",
      "Response: {\"message\":\"You are not subscribed to this API.\"}\n"
     ]
    },
    {
     "ename": "Exception",
     "evalue": "API request failed. Check your API key or subscription.",
     "output_type": "error",
     "traceback": [
      "\u001b[1;31m---------------------------------------------------------------------------\u001b[0m",
      "\u001b[1;31mException\u001b[0m                                 Traceback (most recent call last)",
      "Cell \u001b[1;32mIn[21], line 19\u001b[0m\n\u001b[0;32m     17\u001b[0m     \u001b[38;5;28mprint\u001b[39m(\u001b[38;5;124mf\u001b[39m\u001b[38;5;124m\"\u001b[39m\u001b[38;5;124mError: Unable to fetch data. Status code: \u001b[39m\u001b[38;5;132;01m{\u001b[39;00mresponse\u001b[38;5;241m.\u001b[39mstatus_code\u001b[38;5;132;01m}\u001b[39;00m\u001b[38;5;124m\"\u001b[39m)\n\u001b[0;32m     18\u001b[0m     \u001b[38;5;28mprint\u001b[39m(\u001b[38;5;124mf\u001b[39m\u001b[38;5;124m\"\u001b[39m\u001b[38;5;124mResponse: \u001b[39m\u001b[38;5;132;01m{\u001b[39;00mresponse\u001b[38;5;241m.\u001b[39mtext\u001b[38;5;132;01m}\u001b[39;00m\u001b[38;5;124m\"\u001b[39m)\n\u001b[1;32m---> 19\u001b[0m     \u001b[38;5;28;01mraise\u001b[39;00m \u001b[38;5;167;01mException\u001b[39;00m(\u001b[38;5;124m\"\u001b[39m\u001b[38;5;124mAPI request failed. Check your API key or subscription.\u001b[39m\u001b[38;5;124m\"\u001b[39m)\n\u001b[0;32m     21\u001b[0m \u001b[38;5;66;03m# Parse the response\u001b[39;00m\n\u001b[0;32m     22\u001b[0m data \u001b[38;5;241m=\u001b[39m response\u001b[38;5;241m.\u001b[39mjson()\n",
      "\u001b[1;31mException\u001b[0m: API request failed. Check your API key or subscription."
     ]
    }
   ],
   "source": [
    "import requests\n",
    "import pandas as pd\n",
    "\n",
    "# API setup\n",
    "url = \"https://weatherapi-com.p.rapidapi.com/current.json\"\n",
    "querystring = {\"q\": \"Colombo\"}\n",
    "headers = {\n",
    "    \"x-rapidapi-key\": \"8911a7dfcbmshaddf5cde5886d3ep1d5824jsn77668cc0156f\",\n",
    "    \"x-rapidapi-host\": \"weatherapi-com.p.rapidapi.com\"\n",
    "}\n",
    "\n",
    "# Fetch data\n",
    "response = requests.get(url, headers=headers, params=querystring)\n",
    "\n",
    "# Check if the request was successful\n",
    "if response.status_code != 200:\n",
    "    print(f\"Error: Unable to fetch data. Status code: {response.status_code}\")\n",
    "    print(f\"Response: {response.text}\")\n",
    "    raise Exception(\"API request failed. Check your API key or subscription.\")\n",
    "\n",
    "# Parse the response\n",
    "data = response.json()\n",
    "\n",
    "# Convert to DataFrame\n",
    "weather_df = pd.DataFrame({\n",
    "    \"Location\": [data[\"location\"][\"name\"]],\n",
    "    \"Temperature (C)\": [data[\"current\"][\"temp_c\"]],\n",
    "    \"Condition\": [data[\"current\"][\"condition\"][\"text\"]],\n",
    "    \"Humidity\": [data[\"current\"][\"humidity\"]],\n",
    "    \"Wind Speed (kph)\": [data[\"current\"][\"wind_kph\"]]\n",
    "})\n",
    "\n",
    "# Display the DataFrame\n",
    "print(\"Weather Data for Colombo from WeatherAPI:\")\n",
    "print(weather_df)\n",
    "\n",
    "# Display details\n",
    "print(f\"\\nNumber of records: {len(weather_df)}\")\n",
    "print(f\"Columns: {weather_df.columns.tolist()}\")\n",
    "print(f\"Data types:\\n{weather_df.dtypes}\")\n",
    "print(f\"First few rows:\\n{weather_df.head()}\")\n",
    "\n",
    "# Save to CSV\n",
    "weather_df.to_csv(\"weather_data.csv\", index=False)\n",
    "print(\"\\nData saved to 'weather_data.csv' for reference.\")"
   ]
  },
  {
   "cell_type": "code",
   "execution_count": 23,
   "id": "bc89c1f1-03b7-4304-9520-adc0d1af2e32",
   "metadata": {},
   "outputs": [
    {
     "name": "stdout",
     "output_type": "stream",
     "text": [
      "Error: Unable to fetch data from the API - 403 Client Error: Forbidden for url: https://weather-api167.p.rapidapi.com/api/weather/forecast?place=Passara&cnt=3&units=standard&type=three_hour&mode=json&lang=en\n"
     ]
    }
   ],
   "source": [
    "import requests\n",
    "import pandas as pd\n",
    "\n",
    "# API Parameters\n",
    "api_key = \"8911a7dfcbmshaddf5cde5886d3ep1d5824jsn77668cc0156f\"  # Your actual API key\n",
    "api_url = \"https://weather-api167.p.rapidapi.com/api/weather/forecast\"\n",
    "city_name = \"Passara\"  # Desired location\n",
    "\n",
    "headers = {\n",
    "    \"x-rapidapi-host\": \"weather-api167.p.rapidapi.com\",\n",
    "    \"x-rapidapi-key\": api_key\n",
    "}\n",
    "\n",
    "# Query Parameters\n",
    "params = {\n",
    "    \"place\": city_name,\n",
    "    \"cnt\": \"3\",\n",
    "    \"units\": \"standard\",\n",
    "    \"type\": \"three_hour\",\n",
    "    \"mode\": \"json\",\n",
    "    \"lang\": \"en\"\n",
    "}\n",
    "\n",
    "# API Call with Error Handling\n",
    "try:\n",
    "    response = requests.get(api_url, headers=headers, params=params)\n",
    "    response.raise_for_status()  # Raise exception for HTTP errors\n",
    "    data = response.json()\n",
    "\n",
    "    # Extract weather data from the first forecast entry\n",
    "    weather_data = [\n",
    "        {\n",
    "            \"city\": data.get(\"city\", {}).get(\"name\", \"Unknown\"),\n",
    "            \"datetime\": data.get(\"list\", [{}])[0].get(\"dt_txt\", \"N/A\"),\n",
    "            \"temperature\": data.get(\"list\", [{}])[0].get(\"main\", {}).get(\"temp\", \"N/A\"),\n",
    "            \"description\": data.get(\"list\", [{}])[0].get(\"weather\", [{}])[0].get(\"description\", \"N/A\"),\n",
    "            \"humidity\": data.get(\"list\", [{}])[0].get(\"main\", {}).get(\"humidity\", \"N/A\"),\n",
    "            \"pressure\": data.get(\"list\", [{}])[0].get(\"main\", {}).get(\"pressure\", \"N/A\"),\n",
    "        }\n",
    "    ]\n",
    "\n",
    "    df = pd.DataFrame(weather_data)\n",
    "    print(df)\n",
    "    print(f\"Number of records: {len(df)}\")\n",
    "    print(f\"Columns: {df.columns.tolist()}\")\n",
    "    print(f\"Data types:\\n{df.dtypes}\")\n",
    "    print(f\"First few rows:\\n{df.head()}\")\n",
    "\n",
    "except Exception as e:\n",
    "    print(f\"Error: Unable to fetch data from the API - {e}\")"
   ]
  }
 ],
 "metadata": {
  "kernelspec": {
   "display_name": "Python [conda env:base] *",
   "language": "python",
   "name": "conda-base-py"
  },
  "language_info": {
   "codemirror_mode": {
    "name": "ipython",
    "version": 3
   },
   "file_extension": ".py",
   "mimetype": "text/x-python",
   "name": "python",
   "nbconvert_exporter": "python",
   "pygments_lexer": "ipython3",
   "version": "3.12.7"
  }
 },
 "nbformat": 4,
 "nbformat_minor": 5
}
